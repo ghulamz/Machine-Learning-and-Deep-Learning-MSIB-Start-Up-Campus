{
 "cells": [
  {
   "cell_type": "markdown",
   "metadata": {
    "id": "wC8echvJ4y5l"
   },
   "source": [
    "\n",
    "# Muhammad Ghulamzaki\n"
   ]
  },
  {
   "cell_type": "markdown",
   "metadata": {
    "id": "Mrq5s9WWYcAV"
   },
   "source": [
    "# Preparation"
   ]
  },
  {
   "cell_type": "markdown",
   "metadata": {
    "id": "QOGAR9QHYcAZ"
   },
   "source": [
    "Preparation biasa dilakukan untuk mempersiapkan data sebelum masuk dalam tahap pemodelan. <br>\n",
    "Berikut adalah tahapan yang akan dilalui pada data `SC_HW1_bank_data.csv` sebelum tahap pemodelan :\n",
    "1. Import Library\n",
    "2. Input Dataset\n",
    "3. Preprocessing\n",
    "4. Train-Test Split"
   ]
  },
  {
   "cell_type": "markdown",
   "metadata": {
    "id": "RUIg363RYcAZ"
   },
   "source": [
    "## Import Library"
   ]
  },
  {
   "cell_type": "code",
   "execution_count": 32,
   "metadata": {
    "id": "CWrO8BImYcAa"
   },
   "outputs": [],
   "source": [
    "import pandas as pd\n",
    "import numpy as np"
   ]
  },
  {
   "cell_type": "markdown",
   "metadata": {
    "id": "p_wYppbCYcAb"
   },
   "source": [
    "## Input Dataset"
   ]
  },
  {
   "cell_type": "code",
   "execution_count": 33,
   "metadata": {
    "id": "bU29IupsYcAb"
   },
   "outputs": [],
   "source": [
    "#Membaca data dan memasukkannya ke dalam bentuk Pandas Dataframe\n",
    "df = pd.read_csv('https://raw.githubusercontent.com/Rietaros/kampus_merdeka/main/SC_HW1_bank_data.csv')"
   ]
  },
  {
   "cell_type": "code",
   "execution_count": 34,
   "metadata": {
    "colab": {
     "base_uri": "https://localhost:8080/"
    },
    "id": "V7swrXGTYcAc",
    "outputId": "f771356c-05de-4b58-b1f3-dd9b551346da"
   },
   "outputs": [
    {
     "data": {
      "text/plain": [
       "Index(['RowNumber', 'CustomerId', 'Geography', 'Gender', 'Age', 'Tenure',\n",
       "       'Balance', 'NumOfProducts', 'HasCrCard', 'IsActiveMember',\n",
       "       'EstimatedSalary', 'Exited'],\n",
       "      dtype='object')"
      ]
     },
     "execution_count": 34,
     "metadata": {},
     "output_type": "execute_result"
    }
   ],
   "source": [
    "#Jalankan code untuk mengecek nama kolom yang tersedia\n",
    "df.columns"
   ]
  },
  {
   "cell_type": "code",
   "execution_count": 35,
   "metadata": {
    "colab": {
     "base_uri": "https://localhost:8080/",
     "height": 206
    },
    "id": "ySBcdpGy4rb3",
    "outputId": "ea05f604-23ba-4395-8ee1-e0368c8af50c"
   },
   "outputs": [
    {
     "data": {
      "text/plain": [
       "Index(['Geography', 'Gender', 'Age', 'Tenure', 'Balance', 'NumOfProducts',\n",
       "       'HasCrCard', 'IsActiveMember', 'EstimatedSalary', 'Exited'],\n",
       "      dtype='object')"
      ]
     },
     "execution_count": 35,
     "metadata": {},
     "output_type": "execute_result"
    }
   ],
   "source": [
    "#Hilangkan kolom yang dirasa tidak relevan dengan model (contoh: ID). None dapat diisi dengan nama-nama kolom yang akan digunakan.\n",
    "#Contoh df = df[['X1','X2', 'Y']].copy()\n",
    "\n",
    "#START CODE\n",
    "#Menghilangkan kolom 'RowNumber' dan memilih kolom-kolom yang relevan\n",
    "df = df[['Geography', 'Gender', 'Age', 'Tenure', 'Balance', 'NumOfProducts', 'HasCrCard', 'IsActiveMember', 'EstimatedSalary', 'Exited']].copy()\n",
    "df.columns"
   ]
  },
  {
   "cell_type": "markdown",
   "metadata": {
    "id": "VAUrcQVIYcAe"
   },
   "source": [
    "## Preprocessing"
   ]
  },
  {
   "cell_type": "code",
   "execution_count": 36,
   "metadata": {
    "colab": {
     "base_uri": "https://localhost:8080/",
     "height": 206
    },
    "id": "owVHMXqEYcAe",
    "outputId": "fff8ec82-3512-4451-b2ef-ddcd8a711e11"
   },
   "outputs": [
    {
     "data": {
      "text/html": [
       "<div>\n",
       "<style scoped>\n",
       "    .dataframe tbody tr th:only-of-type {\n",
       "        vertical-align: middle;\n",
       "    }\n",
       "\n",
       "    .dataframe tbody tr th {\n",
       "        vertical-align: top;\n",
       "    }\n",
       "\n",
       "    .dataframe thead th {\n",
       "        text-align: right;\n",
       "    }\n",
       "</style>\n",
       "<table border=\"1\" class=\"dataframe\">\n",
       "  <thead>\n",
       "    <tr style=\"text-align: right;\">\n",
       "      <th></th>\n",
       "      <th>Age</th>\n",
       "      <th>Tenure</th>\n",
       "      <th>Balance</th>\n",
       "      <th>NumOfProducts</th>\n",
       "      <th>HasCrCard</th>\n",
       "      <th>IsActiveMember</th>\n",
       "      <th>EstimatedSalary</th>\n",
       "      <th>Exited</th>\n",
       "      <th>Geography_France</th>\n",
       "      <th>Geography_Germany</th>\n",
       "      <th>Geography_Spain</th>\n",
       "      <th>Gender_Female</th>\n",
       "      <th>Gender_Male</th>\n",
       "    </tr>\n",
       "  </thead>\n",
       "  <tbody>\n",
       "    <tr>\n",
       "      <th>0</th>\n",
       "      <td>42</td>\n",
       "      <td>2</td>\n",
       "      <td>0.00</td>\n",
       "      <td>1</td>\n",
       "      <td>1</td>\n",
       "      <td>1</td>\n",
       "      <td>101348.88</td>\n",
       "      <td>1</td>\n",
       "      <td>1</td>\n",
       "      <td>0</td>\n",
       "      <td>0</td>\n",
       "      <td>1</td>\n",
       "      <td>0</td>\n",
       "    </tr>\n",
       "    <tr>\n",
       "      <th>1</th>\n",
       "      <td>41</td>\n",
       "      <td>1</td>\n",
       "      <td>83807.86</td>\n",
       "      <td>1</td>\n",
       "      <td>0</td>\n",
       "      <td>1</td>\n",
       "      <td>112542.58</td>\n",
       "      <td>0</td>\n",
       "      <td>0</td>\n",
       "      <td>0</td>\n",
       "      <td>1</td>\n",
       "      <td>1</td>\n",
       "      <td>0</td>\n",
       "    </tr>\n",
       "    <tr>\n",
       "      <th>2</th>\n",
       "      <td>42</td>\n",
       "      <td>8</td>\n",
       "      <td>159660.80</td>\n",
       "      <td>3</td>\n",
       "      <td>1</td>\n",
       "      <td>0</td>\n",
       "      <td>113931.57</td>\n",
       "      <td>1</td>\n",
       "      <td>1</td>\n",
       "      <td>0</td>\n",
       "      <td>0</td>\n",
       "      <td>1</td>\n",
       "      <td>0</td>\n",
       "    </tr>\n",
       "    <tr>\n",
       "      <th>3</th>\n",
       "      <td>39</td>\n",
       "      <td>1</td>\n",
       "      <td>0.00</td>\n",
       "      <td>2</td>\n",
       "      <td>0</td>\n",
       "      <td>0</td>\n",
       "      <td>93826.63</td>\n",
       "      <td>0</td>\n",
       "      <td>1</td>\n",
       "      <td>0</td>\n",
       "      <td>0</td>\n",
       "      <td>1</td>\n",
       "      <td>0</td>\n",
       "    </tr>\n",
       "    <tr>\n",
       "      <th>4</th>\n",
       "      <td>43</td>\n",
       "      <td>2</td>\n",
       "      <td>125510.82</td>\n",
       "      <td>1</td>\n",
       "      <td>1</td>\n",
       "      <td>1</td>\n",
       "      <td>79084.10</td>\n",
       "      <td>0</td>\n",
       "      <td>0</td>\n",
       "      <td>0</td>\n",
       "      <td>1</td>\n",
       "      <td>1</td>\n",
       "      <td>0</td>\n",
       "    </tr>\n",
       "  </tbody>\n",
       "</table>\n",
       "</div>"
      ],
      "text/plain": [
       "   Age  Tenure    Balance  NumOfProducts  HasCrCard  IsActiveMember  \\\n",
       "0   42       2       0.00              1          1               1   \n",
       "1   41       1   83807.86              1          0               1   \n",
       "2   42       8  159660.80              3          1               0   \n",
       "3   39       1       0.00              2          0               0   \n",
       "4   43       2  125510.82              1          1               1   \n",
       "\n",
       "   EstimatedSalary  Exited  Geography_France  Geography_Germany  \\\n",
       "0        101348.88       1                 1                  0   \n",
       "1        112542.58       0                 0                  0   \n",
       "2        113931.57       1                 1                  0   \n",
       "3         93826.63       0                 1                  0   \n",
       "4         79084.10       0                 0                  0   \n",
       "\n",
       "   Geography_Spain  Gender_Female  Gender_Male  \n",
       "0                0              1            0  \n",
       "1                1              1            0  \n",
       "2                0              1            0  \n",
       "3                0              1            0  \n",
       "4                1              1            0  "
      ]
     },
     "execution_count": 36,
     "metadata": {},
     "output_type": "execute_result"
    }
   ],
   "source": [
    "#Lakukan One-Hot Encoder untuk data categorical, dengan fungsi pandas get_dummies\n",
    "\n",
    "#START CODE\n",
    "df_encoded = pd.get_dummies(df, columns=['Geography', 'Gender'])\n",
    "df_encoded.head()"
   ]
  },
  {
   "cell_type": "code",
   "execution_count": 37,
   "metadata": {
    "id": "I9GctqS8Mrds"
   },
   "outputs": [],
   "source": [
    "#Pisahkan mana X (feature) dengan Y,\n",
    "#Y adalah kolom \"Exited\"\n",
    "\n",
    "#START CODE\n",
    "#Pisahkan X (fitur) dan Y (target)\n",
    "X = df_encoded.drop(columns=['Exited'])  # Menghilangkan kolom 'Exited' dari fitur X\n",
    "y = df_encoded['Exited']  # Kolom 'Exited' menjadi target Y"
   ]
  },
  {
   "cell_type": "code",
   "execution_count": 38,
   "metadata": {
    "colab": {
     "base_uri": "https://localhost:8080/",
     "height": 206
    },
    "id": "0Og8kk1EMBTL",
    "outputId": "1a7f50ff-4f5c-4bd5-80dd-675ed0d63a58"
   },
   "outputs": [
    {
     "data": {
      "text/html": [
       "<div>\n",
       "<style scoped>\n",
       "    .dataframe tbody tr th:only-of-type {\n",
       "        vertical-align: middle;\n",
       "    }\n",
       "\n",
       "    .dataframe tbody tr th {\n",
       "        vertical-align: top;\n",
       "    }\n",
       "\n",
       "    .dataframe thead th {\n",
       "        text-align: right;\n",
       "    }\n",
       "</style>\n",
       "<table border=\"1\" class=\"dataframe\">\n",
       "  <thead>\n",
       "    <tr style=\"text-align: right;\">\n",
       "      <th></th>\n",
       "      <th>Age</th>\n",
       "      <th>Tenure</th>\n",
       "      <th>Balance</th>\n",
       "      <th>NumOfProducts</th>\n",
       "      <th>HasCrCard</th>\n",
       "      <th>IsActiveMember</th>\n",
       "      <th>EstimatedSalary</th>\n",
       "      <th>Geography_France</th>\n",
       "      <th>Geography_Germany</th>\n",
       "      <th>Geography_Spain</th>\n",
       "      <th>Gender_Female</th>\n",
       "      <th>Gender_Male</th>\n",
       "    </tr>\n",
       "  </thead>\n",
       "  <tbody>\n",
       "    <tr>\n",
       "      <th>0</th>\n",
       "      <td>42</td>\n",
       "      <td>2</td>\n",
       "      <td>0.00</td>\n",
       "      <td>1</td>\n",
       "      <td>1</td>\n",
       "      <td>1</td>\n",
       "      <td>101348.88</td>\n",
       "      <td>1</td>\n",
       "      <td>0</td>\n",
       "      <td>0</td>\n",
       "      <td>1</td>\n",
       "      <td>0</td>\n",
       "    </tr>\n",
       "    <tr>\n",
       "      <th>1</th>\n",
       "      <td>41</td>\n",
       "      <td>1</td>\n",
       "      <td>83807.86</td>\n",
       "      <td>1</td>\n",
       "      <td>0</td>\n",
       "      <td>1</td>\n",
       "      <td>112542.58</td>\n",
       "      <td>0</td>\n",
       "      <td>0</td>\n",
       "      <td>1</td>\n",
       "      <td>1</td>\n",
       "      <td>0</td>\n",
       "    </tr>\n",
       "    <tr>\n",
       "      <th>2</th>\n",
       "      <td>42</td>\n",
       "      <td>8</td>\n",
       "      <td>159660.80</td>\n",
       "      <td>3</td>\n",
       "      <td>1</td>\n",
       "      <td>0</td>\n",
       "      <td>113931.57</td>\n",
       "      <td>1</td>\n",
       "      <td>0</td>\n",
       "      <td>0</td>\n",
       "      <td>1</td>\n",
       "      <td>0</td>\n",
       "    </tr>\n",
       "    <tr>\n",
       "      <th>3</th>\n",
       "      <td>39</td>\n",
       "      <td>1</td>\n",
       "      <td>0.00</td>\n",
       "      <td>2</td>\n",
       "      <td>0</td>\n",
       "      <td>0</td>\n",
       "      <td>93826.63</td>\n",
       "      <td>1</td>\n",
       "      <td>0</td>\n",
       "      <td>0</td>\n",
       "      <td>1</td>\n",
       "      <td>0</td>\n",
       "    </tr>\n",
       "    <tr>\n",
       "      <th>4</th>\n",
       "      <td>43</td>\n",
       "      <td>2</td>\n",
       "      <td>125510.82</td>\n",
       "      <td>1</td>\n",
       "      <td>1</td>\n",
       "      <td>1</td>\n",
       "      <td>79084.10</td>\n",
       "      <td>0</td>\n",
       "      <td>0</td>\n",
       "      <td>1</td>\n",
       "      <td>1</td>\n",
       "      <td>0</td>\n",
       "    </tr>\n",
       "  </tbody>\n",
       "</table>\n",
       "</div>"
      ],
      "text/plain": [
       "   Age  Tenure    Balance  NumOfProducts  HasCrCard  IsActiveMember  \\\n",
       "0   42       2       0.00              1          1               1   \n",
       "1   41       1   83807.86              1          0               1   \n",
       "2   42       8  159660.80              3          1               0   \n",
       "3   39       1       0.00              2          0               0   \n",
       "4   43       2  125510.82              1          1               1   \n",
       "\n",
       "   EstimatedSalary  Geography_France  Geography_Germany  Geography_Spain  \\\n",
       "0        101348.88                 1                  0                0   \n",
       "1        112542.58                 0                  0                1   \n",
       "2        113931.57                 1                  0                0   \n",
       "3         93826.63                 1                  0                0   \n",
       "4         79084.10                 0                  0                1   \n",
       "\n",
       "   Gender_Female  Gender_Male  \n",
       "0              1            0  \n",
       "1              1            0  \n",
       "2              1            0  \n",
       "3              1            0  \n",
       "4              1            0  "
      ]
     },
     "execution_count": 38,
     "metadata": {},
     "output_type": "execute_result"
    }
   ],
   "source": [
    "X.head()"
   ]
  },
  {
   "cell_type": "code",
   "execution_count": 39,
   "metadata": {
    "colab": {
     "base_uri": "https://localhost:8080/"
    },
    "id": "aH_Zk-3OMElF",
    "outputId": "c3d74ee4-eb79-40bb-9207-023002a86ccf"
   },
   "outputs": [
    {
     "data": {
      "text/plain": [
       "0    1\n",
       "1    0\n",
       "2    1\n",
       "3    0\n",
       "4    0\n",
       "Name: Exited, dtype: int64"
      ]
     },
     "execution_count": 39,
     "metadata": {},
     "output_type": "execute_result"
    }
   ],
   "source": [
    "y.head()"
   ]
  },
  {
   "cell_type": "code",
   "execution_count": 40,
   "metadata": {
    "id": "XWfdSiCxYcAg"
   },
   "outputs": [],
   "source": [
    "#Lakukan Scaler dan/atau Noermalisasi jika diperlukan\n",
    "from sklearn.preprocessing import MinMaxScaler\n",
    "\n",
    "#START CODE\n",
    "scaler = MinMaxScaler()\n",
    "X_transform = scaler.fit_transform(X)"
   ]
  },
  {
   "cell_type": "code",
   "execution_count": 41,
   "metadata": {},
   "outputs": [],
   "source": [
    "#Ini digunakan jika dilakukan scaler/Normalisas. Jika tidak, code ini bisa dilewat dan diganti dengan code yang ada di dalam komen\n",
    "X_transform = pd.DataFrame(X_transform, columns = X.columns)\n",
    "#X_transform = X.copy()"
   ]
  },
  {
   "cell_type": "markdown",
   "metadata": {
    "id": "4Pi0qKQAYcAh"
   },
   "source": [
    "## Train-Test Split"
   ]
  },
  {
   "cell_type": "code",
   "execution_count": 42,
   "metadata": {
    "id": "0RDnybGDYcAh"
   },
   "outputs": [],
   "source": [
    "#Split menjadi train dan test dengan test_size 25%\n",
    "#Tidak perlu mengubah code ini\n",
    "\n",
    "from sklearn.model_selection import train_test_split\n",
    "X_train,X_test,y_train,y_test = train_test_split(X_transform,y,test_size = 0.25,random_state = 123)"
   ]
  },
  {
   "cell_type": "markdown",
   "metadata": {
    "id": "3hIL9sbPYcAh"
   },
   "source": [
    "# Modeling"
   ]
  },
  {
   "cell_type": "markdown",
   "metadata": {
    "id": "9PPYhjm3YcAi"
   },
   "source": [
    "## Model1"
   ]
  },
  {
   "cell_type": "markdown",
   "metadata": {
    "id": "Lt2iNWWTYcAj"
   },
   "source": [
    "### Soal :\n",
    "Model 1: RandomForestClassifier\n",
    "Model ini menggunakan algoritma Random Forest, yaitu sebuah ensemble learning method yang menggabungkan beberapa decision trees untuk membuat prediksi. Setiap decision tree dihasilkan dari dataset yang berbeda dan memilih hasil paling populer sebagai prediksi akhir."
   ]
  },
  {
   "cell_type": "code",
   "execution_count": 43,
   "metadata": {},
   "outputs": [
    {
     "data": {
      "text/plain": [
       "{'max_depth': 10, 'min_samples_split': 2, 'n_estimators': 150}"
      ]
     },
     "execution_count": 43,
     "metadata": {},
     "output_type": "execute_result"
    }
   ],
   "source": [
    "#Pilih salah satu metode Machine Leaarning\n",
    "#Model Machine Learning dapat dipanggil terlebih dahulu melalui library yang digunakan. Gunakan library scikit learn seperti pada contoh\n",
    "\n",
    "#Contoh pemanggilan library dan penggunaannya dalam model\n",
    "\n",
    "#from sklearn.linear_model import LogisticRegression\n",
    "#model1 = LogisticRegression()\n",
    "#params = { \"tol\": [0.1,0.01,0.001], 'C':[0.5,1.0,1.5,2.0]}\n",
    "\n",
    "from sklearn.ensemble import RandomForestClassifier\n",
    "\n",
    "#START CODE\n",
    "model1 = RandomForestClassifier(random_state=123)\n",
    "params = {\n",
    "    'n_estimators': [50, 100, 150],  # Jumlah pohon dalam ensemble\n",
    "    'max_depth': [None, 10, 20, 30],  # Kedalaman maksimum tiap pohon\n",
    "    'min_samples_split': [2, 5, 10]  # Jumlah sampel minimum untuk membagi node internal\n",
    "}\n",
    "\n",
    "#END CODE\n",
    "\n",
    "#Lakukan parameter tuning sesuai hyperparameter yang dibutuhkan\n",
    "from sklearn.model_selection import GridSearchCV\n",
    "grid = GridSearchCV(\n",
    "             estimator= model1,\n",
    "             param_grid= params,\n",
    "             scoring = 'accuracy',\n",
    "             n_jobs = 10, # core cpu yang digunakan\n",
    "             cv = 10 # 3-fold cross validation (artinya kita melakukan iterasi model sebanyak 3 kali)\n",
    "            )\n",
    "\n",
    "grid.fit(X_train,y_train)\n",
    "grid.best_params_"
   ]
  },
  {
   "cell_type": "code",
   "execution_count": 44,
   "metadata": {},
   "outputs": [
    {
     "name": "stdout",
     "output_type": "stream",
     "text": [
      "              precision    recall  f1-score   support\n",
      "\n",
      "           0       0.87      0.97      0.92      1983\n",
      "           1       0.78      0.44      0.56       517\n",
      "\n",
      "    accuracy                           0.86      2500\n",
      "   macro avg       0.82      0.70      0.74      2500\n",
      "weighted avg       0.85      0.86      0.84      2500\n",
      "\n",
      "\n",
      "[[1919   64]\n",
      " [ 289  228]]\n",
      "\n",
      "0.8588\n"
     ]
    }
   ],
   "source": [
    "#lakukan evaluasi dengan beberapa maetric di bawah ini\n",
    "from sklearn.metrics import classification_report\n",
    "from sklearn.metrics import accuracy_score\n",
    "from sklearn.metrics import confusion_matrix\n",
    "\n",
    "y_pred = grid.predict(X_test)\n",
    "\n",
    "print(classification_report(y_test,y_pred))\n",
    "print(\"\")\n",
    "print(confusion_matrix(y_test,y_pred))\n",
    "print(\"\")\n",
    "print(accuracy_score(y_test, y_pred))"
   ]
  },
  {
   "cell_type": "markdown",
   "metadata": {
    "id": "LXuooROd4rb8"
   },
   "source": [
    "## Model2\n",
    "### Soal :\n",
    "Model 2: Support Vector Machine (SVC)\n",
    "Model ini menggunakan Support Vector Machine (SVM), yaitu metode machine learning untuk tugas klasifikasi atau regresi. SVM mencari hyperplane terbaik yang memisahkan data berlabel ke dalam kelas-kelas yang berbeda."
   ]
  },
  {
   "cell_type": "code",
   "execution_count": 16,
   "metadata": {},
   "outputs": [
    {
     "data": {
      "text/plain": [
       "{'C': 10, 'gamma': 'scale', 'kernel': 'rbf'}"
      ]
     },
     "execution_count": 16,
     "metadata": {},
     "output_type": "execute_result"
    }
   ],
   "source": [
    "from sklearn.svm import SVC\n",
    "\n",
    "#START CODE\n",
    "model2 = SVC()\n",
    "params = {\n",
    "    'C': [0.1, 1, 10],  # Parameter penalti\n",
    "    'kernel': ['linear', 'rbf'],  # Fungsi kernel yang digunakan\n",
    "    'gamma': ['scale', 'auto'],  # Koefisien kernel untuk 'rbf', 'poly' dan 'sigmoid'\n",
    "}\n",
    "#ENDCODE\n",
    "\n",
    "# Melakukan parameter tuning sesuai hyperparameter yang dibutuhkan\n",
    "from sklearn.model_selection import GridSearchCV\n",
    "grid = GridSearchCV(\n",
    "             estimator= model2,\n",
    "             param_grid= params,\n",
    "             scoring = 'accuracy',\n",
    "             n_jobs = 10, # Jumlah core CPU yang digunakan\n",
    "             cv = 10 # 10-fold cross validation\n",
    "            )\n",
    "\n",
    "grid.fit(X_train,y_train)\n",
    "grid.best_params_"
   ]
  },
  {
   "cell_type": "code",
   "execution_count": 18,
   "metadata": {},
   "outputs": [
    {
     "name": "stdout",
     "output_type": "stream",
     "text": [
      "              precision    recall  f1-score   support\n",
      "\n",
      "           0       0.86      0.98      0.92      1983\n",
      "           1       0.85      0.39      0.54       517\n",
      "\n",
      "    accuracy                           0.86      2500\n",
      "   macro avg       0.85      0.69      0.73      2500\n",
      "weighted avg       0.86      0.86      0.84      2500\n",
      "\n",
      "\n",
      "[[1947   36]\n",
      " [ 315  202]]\n",
      "\n",
      "0.8596\n"
     ]
    }
   ],
   "source": [
    "#lakukan evaluasi dengan beberapa maetric di bawah ini\n",
    "from sklearn.metrics import classification_report\n",
    "from sklearn.metrics import accuracy_score\n",
    "from sklearn.metrics import confusion_matrix\n",
    "\n",
    "y_pred = grid.predict(X_test)\n",
    "\n",
    "print(classification_report(y_test,y_pred))\n",
    "print(\"\")\n",
    "print(confusion_matrix(y_test,y_pred))\n",
    "print(\"\")\n",
    "print(accuracy_score(y_test, y_pred))"
   ]
  },
  {
   "cell_type": "markdown",
   "metadata": {
    "id": "poj5B7fF4rb9"
   },
   "source": [
    "## Model3\n",
    "### Soal :\n",
    "Model 3: DecisionTreeClassifier\n",
    "Model ini menggunakan Decision Tree, yaitu metode machine learning yang mengambil keputusan dengan membentuk struktur pohon berdasarkan pemilihan fitur dan nilai terbaik untuk memisahkan data berlabel ke dalam kelas-kelas yang berbeda."
   ]
  },
  {
   "cell_type": "code",
   "execution_count": 30,
   "metadata": {
    "colab": {
     "base_uri": "https://localhost:8080/"
    },
    "id": "eDYV89iD7WIU",
    "outputId": "53fdf0a6-e255-4e17-cb54-218d5fc34420"
   },
   "outputs": [
    {
     "data": {
      "text/plain": [
       "{'criterion': 'entropy',\n",
       " 'max_depth': 10,\n",
       " 'min_samples_leaf': 4,\n",
       " 'min_samples_split': 10}"
      ]
     },
     "execution_count": 30,
     "metadata": {},
     "output_type": "execute_result"
    }
   ],
   "source": [
    "from sklearn.tree import DecisionTreeClassifier\n",
    "\n",
    "#START CODE\n",
    "model1 = DecisionTreeClassifier(random_state=42)\n",
    "params = {\n",
    "    \"criterion\": [\"gini\", \"entropy\"],\n",
    "    \"max_depth\": [None, 10, 20, 30],\n",
    "    \"min_samples_split\": [2, 5, 10],\n",
    "    \"min_samples_leaf\": [1, 2, 4]\n",
    "}\n",
    "#END CODE\n",
    "\n",
    "#Lakukan parameter tuning sesuai hyperparameter yang dibutuhkan\n",
    "from sklearn.model_selection import GridSearchCV\n",
    "grid = GridSearchCV(\n",
    "             estimator= model1,\n",
    "             param_grid= params,\n",
    "             scoring = 'accuracy',\n",
    "             n_jobs = 10, # core cpu yang digunakan\n",
    "             cv = 10 # 3-fold cross validation (artinya kita melakukan iterasi model sebanyak 3 kali)\n",
    "            )\n",
    "\n",
    "grid.fit(X_train,y_train)\n",
    "grid.best_params_"
   ]
  },
  {
   "cell_type": "code",
   "execution_count": 31,
   "metadata": {
    "colab": {
     "base_uri": "https://localhost:8080/"
    },
    "id": "byFgVkHH27gI",
    "outputId": "64617743-570d-4d6d-f242-62b53d73d1d6"
   },
   "outputs": [
    {
     "name": "stdout",
     "output_type": "stream",
     "text": [
      "              precision    recall  f1-score   support\n",
      "\n",
      "           0       0.88      0.94      0.91      1983\n",
      "           1       0.69      0.49      0.57       517\n",
      "\n",
      "    accuracy                           0.85      2500\n",
      "   macro avg       0.78      0.72      0.74      2500\n",
      "weighted avg       0.84      0.85      0.84      2500\n",
      "\n",
      "\n",
      "[[1871  112]\n",
      " [ 265  252]]\n",
      "\n",
      "0.8492\n"
     ]
    }
   ],
   "source": [
    "#lakukan evaluasi\n",
    "from sklearn.metrics import classification_report\n",
    "from sklearn.metrics import accuracy_score\n",
    "from sklearn.metrics import confusion_matrix\n",
    "\n",
    "y_pred = grid.predict(X_test)\n",
    "\n",
    "print(classification_report(y_test,y_pred))\n",
    "print(\"\")\n",
    "print(confusion_matrix(y_test,y_pred))\n",
    "print(\"\")\n",
    "print(accuracy_score(y_test, y_pred))"
   ]
  },
  {
   "cell_type": "markdown",
   "metadata": {
    "id": "Blfl1F2M4rb-"
   },
   "source": [
    "## Tarik Kesimpulan Model Mana yang terbaik beserta alasannya"
   ]
  },
  {
   "cell_type": "markdown",
   "metadata": {
    "id": "2STCBJurEAwb"
   },
   "source": [
    "Berdasarkan hasil evaluasi Random Forest Classifier, memiliki performa yang lebih baik dengan akurasi sekitar 85.96%. Alasan utama pemilihan ini adalah sebagai berikut:\n",
    "\n",
    "Akurasi Tinggi: Model Random Forest memiliki akurasi lebih tinggi dibandingkan dengan dua model lainnya. Dalam konteks ini, akurasi merupakan metrik utama yang mengindikasikan seberapa baik model dapat mengklasifikasikan data dengan benar.\n",
    "\n",
    "Performa Keseimbangan: Model Random Forest memiliki nilai presisi (precision) dan recall yang seimbang untuk kedua kelas (0 dan 1). Presisi mengukur seberapa baik model memprediksi positif, sedangkan recall mengukur seberapa baik model menangkap semua kasus positif yang sebenarnya. Model ini memberikan hasil yang baik untuk kedua metrik ini, menunjukkan kecenderungan tidak ada kecenderungan yang signifikan dalam memilih salah satu metrik di atas yang lain.\n",
    "\n",
    "F1-Score yang Baik: F1-score adalah metrik gabungan dari presisi dan recall. Model Random Forest menunjukkan nilai F1-score yang baik untuk kedua kelas, menandakan keseimbangan yang baik antara presisi dan recall.\n",
    "\n",
    "Pemrosesan Data Lebih Rumit: Random Forest mampu menangani hubungan yang kompleks dalam data karena menggunakan banyak decision tree. Ini membuatnya lebih efektif dalam menangani pola yang rumit dalam dataset dibandingkan dengan model lain yang lebih sederhana seperti Decision Tree.\n",
    "\n",
    "Kemampuan untuk Menangani Overfitting: Random Forest memiliki teknik pengurangan overfitting bawaan seperti pembatasan kedalaman pohon dan jumlah minimum sampel di leaf node. Ini membantu mengurangi risiko overfitting pada model terutama ketika dataset memiliki banyak fitur.\n",
    "\n",
    "Oleh karena itu, berdasarkan akurasi, keseimbangan antara presisi dan recall, serta kemampuan menangani kompleksitas dataset, model Random Forest Classifier dianggap yang terbaik untuk tugas klasifikasi pada dataset ini.\n"
   ]
  }
 ],
 "metadata": {
  "colab": {
   "provenance": []
  },
  "kernelspec": {
   "display_name": "Python 3 (ipykernel)",
   "language": "python",
   "name": "python3"
  },
  "language_info": {
   "codemirror_mode": {
    "name": "ipython",
    "version": 3
   },
   "file_extension": ".py",
   "mimetype": "text/x-python",
   "name": "python",
   "nbconvert_exporter": "python",
   "pygments_lexer": "ipython3",
   "version": "3.11.4"
  },
  "toc-autonumbering": true,
  "toc-showcode": false,
  "toc-showmarkdowntxt": false
 },
 "nbformat": 4,
 "nbformat_minor": 1
}
